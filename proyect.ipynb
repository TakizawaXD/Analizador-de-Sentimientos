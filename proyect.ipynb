{
 "cells": [
  {
   "cell_type": "code",
   "execution_count": null,
   "metadata": {},
   "outputs": [],
   "source": [
    "# Instala las librerías necesarias si no las tienes\n",
    "%pip install transformers"
   ]
  },
  {
   "cell_type": "code",
   "execution_count": null,
   "metadata": {},
   "outputs": [],
   "source": [
    "# Importar la librería necesaria para el análisis de sentimientos\n",
    "!from transformers import pipeline\n"
   ]
  },
  {
   "cell_type": "code",
   "execution_count": null,
   "metadata": {},
   "outputs": [],
   "source": [
    "# Crear el pipeline para el análisis de sentimientos\n",
    "!classifier = pipeline(\"sentiment-analysis\")"
   ]
  },
  {
   "cell_type": "code",
   "execution_count": null,
   "metadata": {},
   "outputs": [],
   "source": [
    "# Función para interactuar con el usuario y analizar el sentimiento del texto\n",
    "print(\"¡Bienvenido al analizador de sentimientos! 😊\")\n",
    "print(\"Escribe un texto y te diré si el sentimiento es POSITIVO o NEGATIVO.\")\n",
    "print(\"Para salir, escribe 'salir'.\\n\")\n",
    "\n",
    "while True:\n",
    "    # Solicitar al usuario que ingrese un texto\n",
    "    texto = input(\"Ingresa un texto: \")\n",
    "\n",
    "    # Condición para salir del bucle\n",
    "    if texto.lower() == \"salir\":\n",
    "        print(\"¡Gracias por usar el analizador de sentimientos! 🌟\")\n",
    "        break\n",
    "\n",
    "    # Realizar el análisis de sentimientos con el pipeline\n",
    "    resultado = classifier(texto)\n",
    "\n",
    "    # Extraer el sentimiento y la confianza del resultado\n",
    "    sentimiento = resultado[0]['label']\n",
    "    confianza = resultado[0]['score']\n",
    "\n",
    "    # Mostrar el resultado\n",
    "    print(f\"\\nResultado: {sentimiento} (confianza: {confianza:.2f})\\n\")\n"
   ]
  }
 ],
 "metadata": {
  "kernelspec": {
   "display_name": "Python 3",
   "language": "python",
   "name": "python3"
  },
  "language_info": {
   "name": "python",
   "version": "3.13.1"
  }
 },
 "nbformat": 4,
 "nbformat_minor": 2
}
